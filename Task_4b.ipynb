{
  "nbformat": 4,
  "nbformat_minor": 0,
  "metadata": {
    "colab": {
      "provenance": []
    },
    "kernelspec": {
      "name": "python3",
      "display_name": "Python 3"
    },
    "language_info": {
      "name": "python"
    }
  },
  "cells": [
    {
      "cell_type": "code",
      "execution_count": 1,
      "metadata": {
        "colab": {
          "base_uri": "https://localhost:8080/"
        },
        "id": "a7VAGYv5pXnW",
        "outputId": "df09caf0-e122-472b-b358-3f2f5304ca31"
      },
      "outputs": [
        {
          "output_type": "stream",
          "name": "stdout",
          "text": [
            "Enter infix expression: 3 + 4\n",
            "Postfix expression:  3  4+\n"
          ]
        }
      ],
      "source": [
        "operators = set(['+', '-', '*', '/', '(', ')', '^'])  # set of operators\n",
        "precedence = {\n",
        "    '+': 1,\n",
        "    '-': 1,\n",
        "    '*': 2,\n",
        "    '/': 2,\n",
        "    '^': 3\n",
        "}\n",
        "\n",
        "def is_greater(op1, op2):\n",
        "    try:\n",
        "        return precedence[op1] > precedence[op2]\n",
        "    except KeyError:\n",
        "        return False\n",
        "\n",
        "def infix_to_postfix(expression):\n",
        "    stack = [] # main stack\n",
        "    postfix = '' # postfix expression\n",
        "\n",
        "    for char in expression:\n",
        "        if char not in operators:  # operand\n",
        "            postfix += char\n",
        "        else:\n",
        "            if len(stack) == 0:\n",
        "                stack.append(char)\n",
        "            else:\n",
        "                while len(stack) > 0 and is_greater(stack[-1], char):\n",
        "                    postfix += stack.pop()\n",
        "                stack.append(char)\n",
        "\n",
        "    while len(stack) > 0:\n",
        "        postfix += stack.pop()\n",
        "\n",
        "    return postfix\n",
        "\n",
        "expression = input(\"Enter infix expression: \")\n",
        "print(\"Postfix expression: \", infix_to_postfix(expression))\n"
      ]
    }
  ]
}