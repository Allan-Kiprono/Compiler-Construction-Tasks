{
  "nbformat": 4,
  "nbformat_minor": 0,
  "metadata": {
    "colab": {
      "provenance": []
    },
    "kernelspec": {
      "name": "python3",
      "display_name": "Python 3"
    },
    "language_info": {
      "name": "python"
    }
  },
  "cells": [
    {
      "cell_type": "code",
      "source": [
        "class LL1Parser:\n",
        "    def __init__(self, cfg):\n",
        "        self.cfg = cfg\n",
        "        self.first_sets = {}\n",
        "        self.follow_sets = {}\n",
        "        self.parsing_table = {}\n",
        "\n",
        "    def calculate_first_sets(self):{}\n",
        "        # Calculate First Sets for non-terminals and terminals\n",
        "        # Implement this function based on your CFG and rules\n",
        "\n",
        "    def calculate_follow_sets(self):{}\n",
        "        # Calculate Follow Sets for non-terminals\n",
        "        # Implement this function based on your CFG and rules\n",
        "\n",
        "    def construct_parsing_table(self):{}\n",
        "        # Construct the LL(1) parsing table using First and Follow Sets\n",
        "        # Implement this function based on your CFG and rules\n",
        "\n",
        "    def parse(self, input_string):{}\n",
        "        # Implement LL(1) parsing using the parsing table\n",
        "        # Input_string is the string to be parsed\n",
        "\n",
        "    def print_parsing_table(self):\n",
        "        # Print the LL(1) parsing table\n",
        "        for non_terminal, parsing_rules in self.parsing_table.items():\n",
        "            print(non_terminal + \":\")\n",
        "            for terminal, production in parsing_rules.items():\n",
        "                print(f\"  {terminal}: {production}\")\n",
        "\n",
        "if __name__ == \"__main__\":\n",
        "    # Define your CFG\n",
        "    my_cfg = {\n",
        "        \"S\": [\"aAB\", \"bBA\"],\n",
        "        \"A\": [\"a\", \"c\"],\n",
        "        \"B\": [\"b\", \"c\"],\n",
        "    }\n",
        "\n",
        "    ll1_parser = LL1Parser(my_cfg)\n",
        "    ll1_parser.calculate_first_sets()\n",
        "    ll1_parser.calculate_follow_sets()\n",
        "    ll1_parser.construct_parsing_table()\n",
        "    ll1_parser.print_parsing_table()\n",
        "\n",
        "    # Test the parser with an input string\n",
        "    input_string = \"abac\"\n",
        "    result = ll1_parser.parse(input_string)\n",
        "    if result:\n",
        "        print(f\"Parsing successful for input: {input_string}\")\n",
        "    else:\n",
        "        print(f\"Parsing failed for input: {input_string}\")\n"
      ],
      "metadata": {
        "colab": {
          "base_uri": "https://localhost:8080/"
        },
        "id": "MIf7wANjaYe0",
        "outputId": "4c165705-03c2-40e7-e5ab-fd421dcab855"
      },
      "execution_count": 56,
      "outputs": [
        {
          "output_type": "stream",
          "name": "stdout",
          "text": [
            "Parsing failed for input: abac\n"
          ]
        }
      ]
    }
  ]
}