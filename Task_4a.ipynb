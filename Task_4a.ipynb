{
  "nbformat": 4,
  "nbformat_minor": 0,
  "metadata": {
    "colab": {
      "provenance": []
    },
    "kernelspec": {
      "name": "python3",
      "display_name": "Python 3"
    },
    "language_info": {
      "name": "python"
    }
  },
  "cells": [
    {
      "cell_type": "code",
      "source": [
        "!apt-get install flex bison\n"
      ],
      "metadata": {
        "id": "GylFxe3anOp8"
      },
      "execution_count": null,
      "outputs": []
    },
    {
      "cell_type": "code",
      "source": [
        "%%writefile calculator.l"
      ],
      "metadata": {
        "colab": {
          "base_uri": "https://localhost:8080/"
        },
        "id": "SfvrUH4GoI7o",
        "outputId": "987f8811-44b8-4681-bdd4-7b34ced5cebf"
      },
      "execution_count": 1,
      "outputs": [
        {
          "output_type": "stream",
          "name": "stdout",
          "text": [
            "Writing calculator.l\n"
          ]
        }
      ]
    },
    {
      "cell_type": "code",
      "source": [
        "%{\n",
        "#include <stdio.h>\n",
        "%}\n",
        "\n",
        "%token NUM ADD SUB MUL DIV NEWLINE\n",
        "\n",
        "%%\n",
        "\n",
        "calc: /* empty string */\n",
        "    | calc line\n",
        "    ;\n",
        "\n",
        "line: NEWLINE\n",
        "    | expr NEWLINE { printf(\"%d\\n\", $1); }\n",
        "    ;\n",
        "\n",
        "expr: NUM\n",
        "    | expr ADD NUM { $$ = $1 + $3; }\n",
        "    | expr SUB NUM { $$ = $1 - $3; }\n",
        "    | expr MUL NUM { $$ = $1 * $3; }\n",
        "    | expr DIV NUM { $$ = $1 / $3; }\n",
        "    ;\n",
        "\n",
        "%%\n",
        "\n",
        "int main(void) {\n",
        "  yyparse();\n",
        "  return 0;\n",
        "}\n",
        "\n",
        "int yyerror(char *s) {\n",
        "  fprintf(stderr, \"error: %s\\n\", s);\n",
        "  return 0;\n",
        "}\n"
      ],
      "metadata": {
        "id": "6t5AAEYgtKxe"
      },
      "execution_count": null,
      "outputs": []
    },
    {
      "cell_type": "code",
      "source": [
        "!bison -d calculator.y\n"
      ],
      "metadata": {
        "id": "vR3VixcmtNQS"
      },
      "execution_count": null,
      "outputs": []
    },
    {
      "cell_type": "code",
      "source": [
        "%%writefile calculator.l\n",
        "\n",
        "%{\n",
        "#include \"y.tab.h\"\n",
        "%}\n",
        "\n",
        "%%\n",
        "\n",
        "\"+\"     { return ADD; }\n",
        "\"-\"     { return SUB; }\n",
        "\"*\"     { return MUL; }\n",
        "\"/\"     { return DIV; }\n",
        "[0-9]+  { yylval = atoi(yytext); return NUM; }\n",
        "\\n      { return NEWLINE; }\n",
        ".       { /* ignore other characters */ }\n",
        "\n",
        "%%\n"
      ],
      "metadata": {
        "colab": {
          "base_uri": "https://localhost:8080/"
        },
        "id": "Ii1_wOmEtQxh",
        "outputId": "a55c75b5-c763-4f40-db86-a41d6f60495e"
      },
      "execution_count": 5,
      "outputs": [
        {
          "output_type": "stream",
          "name": "stdout",
          "text": [
            "Overwriting calculator.l\n"
          ]
        }
      ]
    },
    {
      "cell_type": "code",
      "source": [
        "!flex calculator.l\n",
        "!gcc -o calculator lex.yy.c calculator.tab.c -lm\n"
      ],
      "metadata": {
        "id": "bQoprDuXtd1Z"
      },
      "execution_count": null,
      "outputs": []
    },
    {
      "cell_type": "code",
      "source": [
        "!echo -e \"5 + 2\\n5 * 6\" | ./calculator\n"
      ],
      "metadata": {
        "colab": {
          "base_uri": "https://localhost:8080/"
        },
        "id": "PiamFlWKtgTL",
        "outputId": "eac481f6-9104-49d2-bf9f-ee57507d57b6"
      },
      "execution_count": 7,
      "outputs": [
        {
          "output_type": "stream",
          "name": "stdout",
          "text": [
            "/bin/bash: line 1: ./calculator: No such file or directory\n"
          ]
        }
      ]
    }
  ]
}